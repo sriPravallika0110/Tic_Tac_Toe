{
 "cells": [
  {
   "cell_type": "code",
   "execution_count": 1,
   "id": "8cdd5386",
   "metadata": {},
   "outputs": [],
   "source": [
    "from IPython.display import clear_output\n",
    "\n",
    "def display_board(board):\n",
    "    clear_output()\n",
    "    print(board[7] + ' | ' +board[8] +' | ' + board[9])\n",
    "    print('- | - | - ')\n",
    "    print(board[4] + ' | ' +board[5] +' | ' + board[6])\n",
    "    print('- | - | - ')\n",
    "    print(board[1] + ' | ' +board[2] +' | ' + board[3])\n",
    "    print('- | - | - ')\n",
    "    "
   ]
  },
  {
   "cell_type": "code",
   "execution_count": 2,
   "id": "6b706268",
   "metadata": {},
   "outputs": [
    {
     "name": "stdout",
     "output_type": "stream",
     "text": [
      "X | O | X\n",
      "- | - | - \n",
      "O | X | O\n",
      "- | - | - \n",
      "X | O | X\n",
      "- | - | - \n"
     ]
    }
   ],
   "source": [
    "test_board = ['#','X','O','X','O','X','O','X','O','X']\n",
    "display_board(test_board)"
   ]
  },
  {
   "cell_type": "code",
   "execution_count": 3,
   "id": "c1a68075",
   "metadata": {},
   "outputs": [],
   "source": [
    "def player_input():\n",
    "    \n",
    "    marker = 'Wrong'\n",
    "    \n",
    "    #Keep asking player 1 to to choose either X or O\n",
    "    while marker not in ['X' ,'O'] :\n",
    "        marker = input(\"Player1 , Please enter either X or O :\").upper()\n",
    "        if not marker in ['X','O']:\n",
    "            print(\"Please enter a valid choice\")\n",
    "    \n",
    "    #Assign player 2 the remaining marker\n",
    "    player1 = marker\n",
    "    if player1 == 'X':\n",
    "        player2 = 'O'\n",
    "    \n",
    "    else:\n",
    "        player2 = 'X'\n",
    "    \n",
    "    return(player1, player2)\n",
    "        \n",
    "    \n",
    "        "
   ]
  },
  {
   "cell_type": "code",
   "execution_count": 4,
   "id": "9c935d71",
   "metadata": {},
   "outputs": [
    {
     "name": "stdout",
     "output_type": "stream",
     "text": [
      "Player1 , Please enter either X or O :O\n"
     ]
    },
    {
     "data": {
      "text/plain": [
       "('O', 'X')"
      ]
     },
     "execution_count": 4,
     "metadata": {},
     "output_type": "execute_result"
    }
   ],
   "source": [
    "player_input()"
   ]
  },
  {
   "cell_type": "code",
   "execution_count": 5,
   "id": "27dac9fd",
   "metadata": {},
   "outputs": [],
   "source": [
    "game_positions = [1,2,3,4,5,6,7,8,9]"
   ]
  },
  {
   "cell_type": "code",
   "execution_count": 6,
   "id": "e6f4faf5",
   "metadata": {},
   "outputs": [],
   "source": [
    "def display_game(game_positions):\n",
    "    print('Choose any of the given positions from the board')\n",
    "    print(game_positions)"
   ]
  },
  {
   "cell_type": "code",
   "execution_count": 7,
   "id": "5f795749",
   "metadata": {},
   "outputs": [
    {
     "name": "stdout",
     "output_type": "stream",
     "text": [
      "Choose any of the given positions from the board\n",
      "[1, 2, 3, 4, 5, 6, 7, 8, 9]\n"
     ]
    }
   ],
   "source": [
    "display_game(game_positions)"
   ]
  },
  {
   "cell_type": "code",
   "execution_count": 8,
   "id": "ae32ac00",
   "metadata": {},
   "outputs": [],
   "source": [
    "def user_choice():\n",
    "    choice = 'WRONG'\n",
    "    while True:\n",
    "        choice = input(\"Please enter a number between 1-10 \")\n",
    "        if not choice.isdigit():\n",
    "            print(\"Please enter an integer , that is not a valid number\")\n",
    "        elif not(0 <= int(choice)<= 10):\n",
    "            print(\"Please enter number which is between 1-10\")\n",
    "        else:\n",
    "            return int(choice)"
   ]
  },
  {
   "cell_type": "code",
   "execution_count": 9,
   "id": "26efd963",
   "metadata": {},
   "outputs": [
    {
     "name": "stdout",
     "output_type": "stream",
     "text": [
      "Please enter a number between 1-10 A\n",
      "Please enter an integer , that is not a valid number\n",
      "Please enter a number between 1-10 23\n",
      "Please enter number which is between 1-10\n",
      "Please enter a number between 1-10 1\n"
     ]
    },
    {
     "data": {
      "text/plain": [
       "1"
      ]
     },
     "execution_count": 9,
     "metadata": {},
     "output_type": "execute_result"
    }
   ],
   "source": [
    "user_choice()"
   ]
  },
  {
   "cell_type": "code",
   "execution_count": 10,
   "id": "b4b7304d",
   "metadata": {},
   "outputs": [],
   "source": [
    "def place_marker(board, marker, position):\n",
    "    board[position] = marker"
   ]
  },
  {
   "cell_type": "code",
   "execution_count": 11,
   "id": "13d9bab7",
   "metadata": {},
   "outputs": [
    {
     "name": "stdout",
     "output_type": "stream",
     "text": [
      "X | $ | X\n",
      "- | - | - \n",
      "O | X | O\n",
      "- | - | - \n",
      "X | O | X\n",
      "- | - | - \n"
     ]
    }
   ],
   "source": [
    "place_marker(test_board,'$',8)\n",
    "display_board(test_board)"
   ]
  },
  {
   "cell_type": "code",
   "execution_count": 12,
   "id": "8d487282",
   "metadata": {},
   "outputs": [],
   "source": [
    "def win_check(board, mark):\n",
    "    # Check 2 diagonals\n",
    "    if (\n",
    "        (board[7] == board[5] == board[3] == mark) or\n",
    "        (board[1] == board[5] == board[9] == mark)\n",
    "    ):\n",
    "        return True\n",
    "\n",
    "    # Check all rows\n",
    "    if (\n",
    "        (board[1] == board[2] == board[3] == mark) or\n",
    "        (board[4] == board[5] == board[6] == mark) or\n",
    "        (board[7] == board[8] == board[9] == mark)\n",
    "    ):\n",
    "        return True\n",
    "\n",
    "    # Check all columns\n",
    "    if (\n",
    "        (board[1] == board[4] == board[7] == mark) or\n",
    "        (board[2] == board[5] == board[8] == mark) or\n",
    "        (board[3] == board[6] == board[9] == mark)\n",
    "    ):\n",
    "        return True\n",
    "\n",
    "    return False\n",
    "\n"
   ]
  },
  {
   "cell_type": "code",
   "execution_count": 13,
   "id": "415070b6",
   "metadata": {},
   "outputs": [
    {
     "data": {
      "text/plain": [
       "True"
      ]
     },
     "execution_count": 13,
     "metadata": {},
     "output_type": "execute_result"
    }
   ],
   "source": [
    "win_check(test_board , 'X')"
   ]
  },
  {
   "cell_type": "code",
   "execution_count": 14,
   "id": "d305c638",
   "metadata": {},
   "outputs": [
    {
     "data": {
      "text/plain": [
       "False"
      ]
     },
     "execution_count": 14,
     "metadata": {},
     "output_type": "execute_result"
    }
   ],
   "source": [
    "win_check(test_board, 'O')"
   ]
  },
  {
   "cell_type": "code",
   "execution_count": 15,
   "id": "784a3291",
   "metadata": {},
   "outputs": [
    {
     "name": "stdout",
     "output_type": "stream",
     "text": [
      "X | $ | X\n",
      "- | - | - \n",
      "O | X | O\n",
      "- | - | - \n",
      "X | O | X\n",
      "- | - | - \n"
     ]
    },
    {
     "data": {
      "text/plain": [
       "False"
      ]
     },
     "execution_count": 15,
     "metadata": {},
     "output_type": "execute_result"
    }
   ],
   "source": [
    "display_board(test_board)\n",
    "win_check(test_board , 'O')"
   ]
  },
  {
   "cell_type": "code",
   "execution_count": 16,
   "id": "97c23ec4",
   "metadata": {},
   "outputs": [],
   "source": [
    "import random\n",
    "def choose_first():\n",
    "    if random.randint(0,1) == 0:\n",
    "        return 'Player2'\n",
    "    else:\n",
    "        return 'Player1'"
   ]
  },
  {
   "cell_type": "code",
   "execution_count": 17,
   "id": "f4632fe2",
   "metadata": {},
   "outputs": [
    {
     "data": {
      "text/plain": [
       "'Player2'"
      ]
     },
     "execution_count": 17,
     "metadata": {},
     "output_type": "execute_result"
    }
   ],
   "source": [
    "choose_first()"
   ]
  },
  {
   "cell_type": "code",
   "execution_count": 18,
   "id": "61d2a868",
   "metadata": {},
   "outputs": [],
   "source": [
    "def space_check(board , position):\n",
    "    if board[position] == ' ':\n",
    "        return True\n",
    "    else:\n",
    "        return False"
   ]
  },
  {
   "cell_type": "code",
   "execution_count": 19,
   "id": "647cf529",
   "metadata": {},
   "outputs": [
    {
     "data": {
      "text/plain": [
       "False"
      ]
     },
     "execution_count": 19,
     "metadata": {},
     "output_type": "execute_result"
    }
   ],
   "source": [
    "space_check(test_board , 1)"
   ]
  },
  {
   "cell_type": "code",
   "execution_count": 20,
   "id": "5d6d26bc",
   "metadata": {},
   "outputs": [],
   "source": [
    "def full_board_check(board):\n",
    "    for i in range(1,10):\n",
    "        if space_check(board, i):\n",
    "            return False\n",
    "    return True"
   ]
  },
  {
   "cell_type": "code",
   "execution_count": 21,
   "id": "a8f5c836",
   "metadata": {
    "scrolled": true
   },
   "outputs": [
    {
     "data": {
      "text/plain": [
       "True"
      ]
     },
     "execution_count": 21,
     "metadata": {},
     "output_type": "execute_result"
    }
   ],
   "source": [
    "full_board_check(test_board)"
   ]
  },
  {
   "cell_type": "code",
   "execution_count": 22,
   "id": "749ab422",
   "metadata": {},
   "outputs": [],
   "source": [
    "def player_choice(board):\n",
    "    pos = 0\n",
    "    while pos not in game_positions or not space_check(board , pos):\n",
    "        pos = int(input(\"choose a position from 1-10\"))\n",
    "    return pos\n",
    "        "
   ]
  },
  {
   "cell_type": "code",
   "execution_count": 23,
   "id": "0195d32a",
   "metadata": {},
   "outputs": [],
   "source": [
    "def replay():\n",
    "    choice = 'WRONG'\n",
    "    while choice not in ['Y' ,'N']:\n",
    "        choice = input(\"Do you want to keep playing Y or N\").upper()\n",
    "    if choice == 'Y':\n",
    "        return True\n",
    "    else:\n",
    "        return False"
   ]
  },
  {
   "cell_type": "code",
   "execution_count": 24,
   "id": "3bc00043",
   "metadata": {},
   "outputs": [
    {
     "name": "stdout",
     "output_type": "stream",
     "text": [
      "Do you want to keep playing Y or NN\n"
     ]
    },
    {
     "data": {
      "text/plain": [
       "False"
      ]
     },
     "execution_count": 24,
     "metadata": {},
     "output_type": "execute_result"
    }
   ],
   "source": [
    "replay()"
   ]
  },
  {
   "cell_type": "code",
   "execution_count": 25,
   "id": "69a87851",
   "metadata": {},
   "outputs": [
    {
     "name": "stdout",
     "output_type": "stream",
     "text": [
      "Do you want to keep playing Y or NY\n"
     ]
    },
    {
     "data": {
      "text/plain": [
       "True"
      ]
     },
     "execution_count": 25,
     "metadata": {},
     "output_type": "execute_result"
    }
   ],
   "source": [
    "replay()"
   ]
  },
  {
   "cell_type": "code",
   "execution_count": 26,
   "id": "0e90f35e",
   "metadata": {
    "scrolled": true
   },
   "outputs": [
    {
     "name": "stdout",
     "output_type": "stream",
     "text": [
      "O |   |  \n",
      "- | - | - \n",
      "X | O | X\n",
      "- | - | - \n",
      "O | X | O\n",
      "- | - | - \n",
      "PLayer 2 has WON !!!\n",
      "Do you want to keep playing Y or N9\n",
      "Do you want to keep playing Y or NN\n"
     ]
    }
   ],
   "source": [
    "#while loop to keep running the game\n",
    "print('Welcome to tic tac toe')\n",
    "\n",
    "while True:\n",
    "    \n",
    "    #Play the game\n",
    "        \n",
    "    #Set everything up (Board , who's first , choose markers x or o)\n",
    "    \n",
    "    the_board = [' ']*10\n",
    "    player1_marker , player2_marker = player_input()\n",
    "    \n",
    "    turn = choose_first()\n",
    "    print(turn + \" will go first \")\n",
    "    play_game = input('Ready to Play , Y or N')\n",
    "\n",
    "    if play_game == 'Y':\n",
    "        game_on =  True\n",
    "    else:\n",
    "        game_on =  False\n",
    "    \n",
    "    #game play \n",
    "    while game_on:\n",
    "        if turn == 'Player 1':\n",
    "            #player 1 turn \n",
    "            #show the board             \n",
    "            display_board(the_board)\n",
    "            \n",
    "            #choose a position\n",
    "            position = player_choice(the_board)\n",
    "            \n",
    "            #place the marker on the position \n",
    "            place_marker(the_board , player1_marker ,position)\n",
    "            \n",
    "            #check if they won\n",
    "            if win_check(the_board,player1_marker):\n",
    "                display_board(the_board)\n",
    "                print('Player 1 has WON !!!')\n",
    "                game_on = False\n",
    "                    \n",
    "            #or check if there is a tie           \n",
    "            else :\n",
    "                if full_board_check(the_board):\n",
    "                    display_board(the_board)\n",
    "                    print('Tie game !!')\n",
    "                    game_on = False\n",
    "                else :\n",
    "                    turn = 'Player 2'\n",
    "            \n",
    "            #no tie or win ? Next player's turn \n",
    "            \n",
    "        #player 2 turn \n",
    "\n",
    "        else:\n",
    "            display_board(the_board)\n",
    "            \n",
    "            #choose a position\n",
    "            position = player_choice(the_board)\n",
    "            \n",
    "            #place the marker on the position \n",
    "            place_marker(the_board , player2_marker ,position)\n",
    "            \n",
    "            #check if they won\n",
    "            if win_check(the_board,player2_marker):\n",
    "                display_board(the_board)\n",
    "                print('PLayer 2 has WON !!!')\n",
    "                game_on = False\n",
    "                    \n",
    "            #or check if there is a tie           \n",
    "            else :\n",
    "                if full_board_check(the_board):\n",
    "                    display_board(the_board)\n",
    "                    print('Tie game !!')\n",
    "                    game_on = False\n",
    "                else :\n",
    "                    turn = 'Player 1'   \n",
    "    \n",
    "    \n",
    "    if not replay():\n",
    "        break"
   ]
  },
  {
   "cell_type": "code",
   "execution_count": null,
   "id": "b35fdead",
   "metadata": {},
   "outputs": [],
   "source": []
  },
  {
   "cell_type": "code",
   "execution_count": null,
   "id": "77dcea47",
   "metadata": {},
   "outputs": [],
   "source": []
  },
  {
   "cell_type": "code",
   "execution_count": null,
   "id": "46d873ea",
   "metadata": {},
   "outputs": [],
   "source": []
  },
  {
   "cell_type": "code",
   "execution_count": null,
   "id": "b965ce52",
   "metadata": {},
   "outputs": [],
   "source": []
  },
  {
   "cell_type": "code",
   "execution_count": null,
   "id": "d12530d2",
   "metadata": {},
   "outputs": [],
   "source": []
  }
 ],
 "metadata": {
  "kernelspec": {
   "display_name": "Python 3 (ipykernel)",
   "language": "python",
   "name": "python3"
  },
  "language_info": {
   "codemirror_mode": {
    "name": "ipython",
    "version": 3
   },
   "file_extension": ".py",
   "mimetype": "text/x-python",
   "name": "python",
   "nbconvert_exporter": "python",
   "pygments_lexer": "ipython3",
   "version": "3.10.9"
  }
 },
 "nbformat": 4,
 "nbformat_minor": 5
}
